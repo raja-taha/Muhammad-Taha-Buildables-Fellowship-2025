{
 "cells": [
  {
   "cell_type": "code",
   "execution_count": null,
   "id": "563456d3",
   "metadata": {
    "vscode": {
     "languageId": "plaintext"
    }
   },
   "outputs": [],
   "source": [
    "from pgmpy.models import BayesianModel\n",
    "from pgmpy.factors.discrete import TabularCPD\n",
    "from pgmpy.inference import VariableElimination\n",
    "\n",
    "# Step 1: Define the Bayesian Network Structure\n",
    "model = BayesianModel([('Studied', 'Grade'), ('Difficulty', 'Grade')])\n",
    "\n",
    "# Step 2: Define Conditional Probability Distributions (CPDs)\n",
    "cpd_studied = TabularCPD(variable='Studied', variable_card=2, values=[[0.6], [0.4]])  # 60% students do not study, 40% do\n",
    "\n",
    "cpd_difficulty = TabularCPD(variable='Difficulty', variable_card=2, values=[[0.7], [0.3]])  # 70% easy, 30% hard\n",
    "\n",
    "cpd_grade = TabularCPD(\n",
    "    variable='Grade', variable_card=3,  # Grade has 3 states: A, B, C\n",
    "    values=[\n",
    "        # Given Studied = No & Difficulty = Easy\n",
    "        [0.3, 0.05, 0.2, 0.02],   # Probability of Grade = A\n",
    "        [0.5, 0.25, 0.4, 0.2],    # Probability of Grade = B\n",
    "        [0.2, 0.7, 0.4, 0.78]     # Probability of Grade = C\n",
    "    ],\n",
    "    evidence=['Studied', 'Difficulty'], evidence_card=[2, 2]\n",
    ")\n",
    "\n",
    "# Step 3: Add CPDs to the Model\n",
    "model.add_cpds(cpd_studied, cpd_difficulty, cpd_grade)\n",
    "\n",
    "# Step 4: Verify the Model\n",
    "assert model.check_model()\n",
    "\n",
    "# Step 5: Perform Inference\n",
    "inference = VariableElimination(model)\n",
    "\n",
    "# Query: What is the probability of getting an 'A' given that the student studied?\n",
    "result = inference.query(variables=['Grade'], evidence={'Studied': 1})\n",
    "print(result)\n"
   ]
  }
 ],
 "metadata": {
  "language_info": {
   "name": "python"
  }
 },
 "nbformat": 4,
 "nbformat_minor": 5
}
