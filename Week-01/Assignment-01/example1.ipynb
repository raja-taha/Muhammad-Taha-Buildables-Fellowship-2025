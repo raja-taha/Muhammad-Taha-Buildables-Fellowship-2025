from pgmpy.models import BayesianModel
from pgmpy.factors.discrete import TabularCPD
from pgmpy.inference import VariableElimination

# Step 1: Define the Bayesian Network Structure
model = BayesianModel([('Studied', 'Grade'), ('Difficulty', 'Grade')])

# Step 2: Define Conditional Probability Distributions (CPDs)
cpd_studied = TabularCPD(variable='Studied', variable_card=2, values=[[0.6], [0.4]])  # 60% students do not study, 40% do

cpd_difficulty = TabularCPD(variable='Difficulty', variable_card=2, values=[[0.7], [0.3]])  # 70% easy, 30% hard

cpd_grade = TabularCPD(
    variable='Grade', variable_card=3,  # Grade has 3 states: A, B, C
    values=[
        # Given Studied = No & Difficulty = Easy
        [0.3, 0.05, 0.2, 0.02],   # Probability of Grade = A
        [0.5, 0.25, 0.4, 0.2],    # Probability of Grade = B
        [0.2, 0.7, 0.4, 0.78]     # Probability of Grade = C
    ],
    evidence=['Studied', 'Difficulty'], evidence_card=[2, 2]
)

# Step 3: Add CPDs to the Model
model.add_cpds(cpd_studied, cpd_difficulty, cpd_grade)

# Step 4: Verify the Model
assert model.check_model()

# Step 5: Perform Inference
inference = VariableElimination(model)

# Query: What is the probability of getting an 'A' given that the student studied?
result = inference.query(variables=['Grade'], evidence={'Studied': 1})
print(result)
