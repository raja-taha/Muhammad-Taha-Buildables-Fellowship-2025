{
 "cells": [
  {
   "cell_type": "code",
   "execution_count": 1,
   "id": "bcebbfbd",
   "metadata": {},
   "outputs": [
    {
     "name": "stderr",
     "output_type": "stream",
     "text": [
      "c:\\Users\\pc\\AppData\\Local\\Programs\\Python\\Python313\\Lib\\site-packages\\tqdm\\auto.py:21: TqdmWarning: IProgress not found. Please update jupyter and ipywidgets. See https://ipywidgets.readthedocs.io/en/stable/user_install.html\n",
      "  from .autonotebook import tqdm as notebook_tqdm\n"
     ]
    }
   ],
   "source": [
    "# Import required libraries\n",
    "from pgmpy.models import DiscreteBayesianNetwork \n",
    "from pgmpy.factors.discrete import TabularCPD\n",
    "from pgmpy.inference import VariableElimination"
   ]
  },
  {
   "cell_type": "code",
   "execution_count": 2,
   "id": "b4f5b644",
   "metadata": {},
   "outputs": [],
   "source": [
    "# Step 1: Define the Bayesian Network structure\n",
    "# LoanApproval depends on Income and CreditScore\n",
    "model = DiscreteBayesianNetwork([\n",
    "    ('Income', 'LoanApproval'),\n",
    "    ('CreditScore', 'LoanApproval')\n",
    "])"
   ]
  },
  {
   "cell_type": "code",
   "execution_count": 3,
   "id": "ead4f5c3",
   "metadata": {},
   "outputs": [],
   "source": [
    "# Step 2: Define Conditional Probability Distributions (CPDs)\n",
    "\n",
    "# Prior probability of Income (High=0.6, Low=0.4)\n",
    "cpd_income = TabularCPD(\n",
    "    variable='Income',\n",
    "    variable_card=2,\n",
    "    values=[[0.6], [0.4]],\n",
    "    state_names={'Income': ['High', 'Low']}\n",
    ")"
   ]
  },
  {
   "cell_type": "code",
   "execution_count": 4,
   "id": "6e4c1841",
   "metadata": {},
   "outputs": [],
   "source": [
    "# Prior probability of CreditScore (Good=0.7, Bad=0.3)\n",
    "cpd_credit = TabularCPD(\n",
    "    variable='CreditScore',\n",
    "    variable_card=2,\n",
    "    values=[[0.7], [0.3]],\n",
    "    state_names={'CreditScore': ['Good', 'Bad']}\n",
    ")"
   ]
  },
  {
   "cell_type": "code",
   "execution_count": 5,
   "id": "b7ed7950",
   "metadata": {},
   "outputs": [],
   "source": [
    "# Conditional probability of LoanApproval given Income & CreditScore\n",
    "# Rows = LoanApproval states (Yes, No)\n",
    "# Columns = combinations of (Income, CreditScore)\n",
    "cpd_loan = TabularCPD(\n",
    "    variable='LoanApproval',\n",
    "    variable_card=2,\n",
    "    values=[\n",
    "        [0.95, 0.70, 0.60, 0.20],  # Yes\n",
    "        [0.05, 0.30, 0.40, 0.80]   # No\n",
    "    ],\n",
    "    evidence=['Income', 'CreditScore'],\n",
    "    evidence_card=[2, 2],\n",
    "    state_names={\n",
    "        'LoanApproval': ['Yes', 'No'],\n",
    "        'Income': ['High', 'Low'],\n",
    "        'CreditScore': ['Good', 'Bad']\n",
    "    }\n",
    ")"
   ]
  },
  {
   "cell_type": "code",
   "execution_count": 6,
   "id": "c91e5d9b",
   "metadata": {},
   "outputs": [],
   "source": [
    "# Step 3: Add CPDs to the model\n",
    "model.add_cpds(cpd_income, cpd_credit, cpd_loan)"
   ]
  },
  {
   "cell_type": "code",
   "execution_count": 7,
   "id": "7e14788a",
   "metadata": {},
   "outputs": [],
   "source": [
    "# Step 4: Create an inference object\n",
    "inference = VariableElimination(model)"
   ]
  },
  {
   "cell_type": "code",
   "execution_count": 8,
   "id": "6acdd0f0",
   "metadata": {},
   "outputs": [],
   "source": [
    "# Step 5: Query -> P(LoanApproval | Income=High, CreditScore=Bad)\n",
    "result = inference.query(\n",
    "    variables=['LoanApproval'],\n",
    "    evidence={'Income': 'High', 'CreditScore': 'Bad'}\n",
    ")"
   ]
  },
  {
   "cell_type": "code",
   "execution_count": 10,
   "id": "15567395",
   "metadata": {},
   "outputs": [
    {
     "name": "stdout",
     "output_type": "stream",
     "text": [
      "Probability of Loan Approval given High Income and Bad Credit:\n",
      "+-------------------+---------------------+\n",
      "| LoanApproval      |   phi(LoanApproval) |\n",
      "+===================+=====================+\n",
      "| LoanApproval(Yes) |              0.7000 |\n",
      "+-------------------+---------------------+\n",
      "| LoanApproval(No)  |              0.3000 |\n",
      "+-------------------+---------------------+\n"
     ]
    }
   ],
   "source": [
    "# Step 6: Print result\n",
    "print(\"Probability of Loan Approval given High Income and Bad Credit:\")\n",
    "print(result)"
   ]
  }
 ],
 "metadata": {
  "kernelspec": {
   "display_name": "Python 3",
   "language": "python",
   "name": "python3"
  },
  "language_info": {
   "codemirror_mode": {
    "name": "ipython",
    "version": 3
   },
   "file_extension": ".py",
   "mimetype": "text/x-python",
   "name": "python",
   "nbconvert_exporter": "python",
   "pygments_lexer": "ipython3",
   "version": "3.13.5"
  }
 },
 "nbformat": 4,
 "nbformat_minor": 5
}
